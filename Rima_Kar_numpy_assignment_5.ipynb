{
  "nbformat": 4,
  "nbformat_minor": 0,
  "metadata": {
    "colab": {
      "name": "Rima Kar - numpy-assignment-5.ipynb",
      "provenance": []
    },
    "kernelspec": {
      "name": "python3",
      "display_name": "Python 3"
    }
  },
  "cells": [
    {
      "cell_type": "markdown",
      "metadata": {
        "id": "HHEofVKhbKOJ",
        "colab_type": "text"
      },
      "source": [
        "Let me tell you a story, Once a statistician was lost in a jungle. It was pitch dark. Nothing could be seen around. The statistician was afraid but he kept moving. Suddenly, he saw a small house. He went there and knocked on the door. Someone opened the door. \n",
        "\n",
        "Guess what was the first question that came out of the statistician's mouth...\n",
        "\n",
        "Bhaiya, yahan kahin aas paas Normal Distribution milega?\n",
        "\n",
        "That's how important Normal distribution is in a Statistician's (read, Data Analyst) life. Whenever a statistician is lost in an analysis, his/her first response is to reach or find a normal distribution somewhere. \n",
        "\n",
        "![alt text](https://media2.giphy.com/media/maIEBUU5OmrMA/source.gif)\n",
        "\n",
        "Although, we are going to study Normal Distribution in future episodes:). Today I want you to get a feel of the Normal/Gaussian Distribution."
      ]
    },
    {
      "cell_type": "markdown",
      "metadata": {
        "id": "udWaNZcNehRo",
        "colab_type": "text"
      },
      "source": [
        "In a normal distribution, there are 2 things of utmost importance, Mean and the Standard Deviation. ([Read more about Normal Distribution here](https://en.wikipedia.org/wiki/Normal_distribution)).\n",
        "\n",
        "I want you to create a function which takes 2 inputs - the Mean and Standard Deviation and prints out the graph of the Normal Distribution (also known as PDF, you will find the formula in the wiki article). Assume x is given and calculate y using the pdf formula. The resultant graph would look something like this (any one of them):!\n",
        "\n",
        "![](https://upload.wikimedia.org/wikipedia/commons/thumb/7/74/Normal_Distribution_PDF.svg/340px-Normal_Distribution_PDF.svg.png)"
      ]
    },
    {
      "cell_type": "code",
      "metadata": {
        "id": "fhPRbXGiXaoK",
        "colab_type": "code",
        "colab": {}
      },
      "source": [
        "import numpy as np\n",
        "import scipy.stats\n",
        "import math\n",
        "import matplotlib.pyplot as plt\n",
        "%matplotlib inline \n",
        "# Write function code here\n",
        "def plotter(meanValue,sdValue):\n",
        "  x=np.linspace(-10,10,100)\n",
        "  mu=0\n",
        "  var=1\n",
        "  sigma= math.sqrt(var)\n",
        "  plt.plot(x,scipy.stats.norm.pdf(x,mu,sigma))\n",
        "  plt.show()\n",
        "  "
      ],
      "execution_count": 0,
      "outputs": []
    },
    {
      "cell_type": "code",
      "metadata": {
        "id": "-EhNx1ZDtR0N",
        "colab_type": "code",
        "outputId": "00b6149d-3ae5-40a7-e19f-dc87dda9252d",
        "colab": {
          "base_uri": "https://localhost:8080/",
          "height": 265
        }
      },
      "source": [
        "plotter(0,2)"
      ],
      "execution_count": 0,
      "outputs": [
        {
          "output_type": "display_data",
          "data": {
            "image/png": "[encoded data removed]",
            "text/plain": [
              "<Figure size 432x288 with 1 Axes>"
            ]
          },
          "metadata": {
            "tags": []
          }
        }
      ]
    },
    {
      "cell_type": "code",
      "metadata": {
        "id": "p9x7LVMBgs43",
        "colab_type": "code",
        "colab": {}
      },
      "source": [
        "# You have write a function which takes 2 numpy array as input and returns \"Hoga\" or \"Nahi Hoga\" \n",
        "# depending on if broadcasting is possible on those two arrays"
      ],
      "execution_count": 0,
      "outputs": []
    },
    {
      "cell_type": "code",
      "metadata": {
        "id": "1G3RYovHJRYj",
        "colab_type": "code",
        "colab": {}
      },
      "source": [
        "# Write your logic here\n",
        "def hoga_ki_nahi(arr1,arr2):\n",
        "  if(arr1.shape == arr2.shape):\n",
        "    return \"hoga\"\n",
        "  elif(list(arr2.shape)==[1,1]):\n",
        "    return \"hoga\"\n",
        "  elif(arr1.size==arr2.size):\n",
        "    return \"hoga\"\n",
        "  elif(arr1.shape!=arr2.shape):\n",
        "    if(arr1.ndim==arr2.ndim):\n",
        "      w=arr1.shape\n",
        "      z=arr2.shape\n",
        "      dim1=arr1.ndim\n",
        "      w1=0\n",
        "      w2=0\n",
        "      while(1):\n",
        "        x=w[0]\n",
        "        p=z[0]\n",
        "        w1=w1+1\n",
        "        if(w1<dim1):\n",
        "          y=w[1]\n",
        "          q=z[1]\n",
        "        else:\n",
        "          break\n",
        "      if(y==p):\n",
        "        return \"hoga\"\n",
        "      if(x==p):\n",
        "        return \"hoga\"\n",
        "      if(x==q):\n",
        "        return \"hoga\"\n",
        "      if(y==q):\n",
        "        return \"hoga\"\n",
        "      else:\n",
        "        return \"Nahi hoga\"\n",
        "    elif(arr1.ndim!=arr2.ndim):\n",
        "      a=arr1.ndim\n",
        "      s1=arr1.shape\n",
        "      b=arr2.ndim\n",
        "      s2=arr2.shape\n",
        "      v1=0\n",
        "      v2=0\n",
        "      while(1):\n",
        "       x1=s1[0]\n",
        "       v1=v1+1\n",
        "       if(v1<a):\n",
        "          y1=s1[1] \n",
        "       else:\n",
        "          break   \n",
        "      while(1):\n",
        "        x1=s1[0]\n",
        "        v1=v1+1\n",
        "        if(v1<a):\n",
        "          y1=s1[1]\n",
        "        else:\n",
        "          break\n",
        "        while(1):\n",
        "          x2=s2[0]\n",
        "          v2=v2+1\n",
        "          if(v2<b):\n",
        "            y2=s2[1]\n",
        "          else:\n",
        "            break\n",
        "        if(x1==x2):\n",
        "          return \"hoga\"\n",
        "        if(x1==y2):\n",
        "          return \"hoga\"\n",
        "        if(y1==y2):\n",
        "          return \"hoga\"\n",
        "        if(y1==x2):\n",
        "          return \"hoga\"\n",
        "        else:\n",
        "          return \"Nahi hoga\"                                          \n",
        "  return #\"Hoga\"/\"Nahi Hoga\"\n",
        "  return #\"Hoga\"/\"Nahi Hoga\""
      ],
      "execution_count": 0,
      "outputs": []
    },
    {
      "cell_type": "code",
      "metadata": {
        "id": "HxyIWB__JUJQ",
        "colab_type": "code",
        "outputId": "1e6cff9b-a84e-4b9c-9ddc-67944bb002f9",
        "colab": {
          "base_uri": "https://localhost:8080/",
          "height": 34
        }
      },
      "source": [
        "# Test your function here\n",
        "arr1=np.arange(6).reshape(3,2)\n",
        "arr2=np.arange(6).reshape(2,3)\n",
        "hoga_ki_nahi(arr1,arr2)"
      ],
      "execution_count": 0,
      "outputs": [
        {
          "output_type": "execute_result",
          "data": {
            "text/plain": [
              "'hoga'"
            ]
          },
          "metadata": {
            "tags": []
          },
          "execution_count": 5
        }
      ]
    }
  ]
}