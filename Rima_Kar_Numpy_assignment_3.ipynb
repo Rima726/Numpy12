{
  "nbformat": 4,
  "nbformat_minor": 0,
  "metadata": {
    "colab": {
      "name": "Rima Kar - Numpy-assignment-3.ipynb",
      "provenance": [],
      "collapsed_sections": []
    },
    "kernelspec": {
      "name": "python3",
      "display_name": "Python 3"
    }
  },
  "cells": [
    {
      "cell_type": "code",
      "metadata": {
        "id": "31UwBw0bR-7I",
        "colab_type": "code",
        "colab": {}
      },
      "source": [
        "import numpy as np"
      ],
      "execution_count": 0,
      "outputs": []
    },
    {
      "cell_type": "code",
      "metadata": {
        "id": "85it8RniSD1i",
        "colab_type": "code",
        "outputId": "c241e351-26b8-4b69-f76e-9275060ebd9d",
        "colab": {
          "base_uri": "https://localhost:8080/",
          "height": 151
        }
      },
      "source": [
        "# Setup for questions 1 and 2\n",
        "arr1=np.arange(40).reshape(8,5)\n",
        "arr1"
      ],
      "execution_count": 0,
      "outputs": [
        {
          "output_type": "execute_result",
          "data": {
            "text/plain": [
              "array([[ 0,  1,  2,  3,  4],\n",
              "       [ 5,  6,  7,  8,  9],\n",
              "       [10, 11, 12, 13, 14],\n",
              "       [15, 16, 17, 18, 19],\n",
              "       [20, 21, 22, 23, 24],\n",
              "       [25, 26, 27, 28, 29],\n",
              "       [30, 31, 32, 33, 34],\n",
              "       [35, 36, 37, 38, 39]])"
            ]
          },
          "metadata": {
            "tags": []
          },
          "execution_count": 2
        }
      ]
    },
    {
      "cell_type": "code",
      "metadata": {
        "id": "0Nz1-qSdSOQ_",
        "colab_type": "code",
        "outputId": "3fa36707-e496-4c3a-dee4-f821f48dfcda",
        "colab": {
          "base_uri": "https://localhost:8080/",
          "height": 151
        }
      },
      "source": [
        "# Q1. From arr1 you have to fetch out every alternate column starting from col1\n",
        "arr1[:,0::2]\n"
      ],
      "execution_count": 0,
      "outputs": [
        {
          "output_type": "execute_result",
          "data": {
            "text/plain": [
              "array([[ 0,  2,  4],\n",
              "       [ 5,  7,  9],\n",
              "       [10, 12, 14],\n",
              "       [15, 17, 19],\n",
              "       [20, 22, 24],\n",
              "       [25, 27, 29],\n",
              "       [30, 32, 34],\n",
              "       [35, 37, 39]])"
            ]
          },
          "metadata": {
            "tags": []
          },
          "execution_count": 3
        }
      ]
    },
    {
      "cell_type": "code",
      "metadata": {
        "id": "6dQwefEgBShJ",
        "colab_type": "code",
        "colab": {}
      },
      "source": [
        ""
      ],
      "execution_count": 0,
      "outputs": []
    },
    {
      "cell_type": "code",
      "metadata": {
        "id": "rwmohc2SScHo",
        "colab_type": "code",
        "outputId": "d6ec6fbe-374c-470c-9648-b287ceceb7b4",
        "colab": {
          "base_uri": "https://localhost:8080/",
          "height": 67
        }
      },
      "source": [
        "# Q2. From arr1 fetch an array which would contain {0,2,4} {15,17,19} and {30,32,34} \n",
        "arr1\n",
        "arr1[0:7:3,0::2]"
      ],
      "execution_count": 0,
      "outputs": [
        {
          "output_type": "execute_result",
          "data": {
            "text/plain": [
              "array([[ 0,  2,  4],\n",
              "       [15, 17, 19],\n",
              "       [30, 32, 34]])"
            ]
          },
          "metadata": {
            "tags": []
          },
          "execution_count": 4
        }
      ]
    },
    {
      "cell_type": "code",
      "metadata": {
        "id": "r1gU_dQ4SsH7",
        "colab_type": "code",
        "outputId": "bad560cd-1c5e-4e93-f368-f00e71e754e0",
        "colab": {
          "base_uri": "https://localhost:8080/",
          "height": 50
        }
      },
      "source": [
        "# Setup for question\n",
        "\n",
        "# Generating a random numpy array of intergers ranging between 1 and 100\n",
        "\n",
        "arr2=np.random.randint(low=1, high=10000, size=10).reshape(2,5)\n",
        "arr2"
      ],
      "execution_count": 0,
      "outputs": [
        {
          "output_type": "execute_result",
          "data": {
            "text/plain": [
              "array([[4540, 6013, 4498, 7874, 8061],\n",
              "       [5008, 6337,  849, 4011, 3847]])"
            ]
          },
          "metadata": {
            "tags": []
          },
          "execution_count": 5
        }
      ]
    },
    {
      "cell_type": "markdown",
      "metadata": {
        "id": "VL_SIR70U2So",
        "colab_type": "text"
      },
      "source": [
        " **Normalization** rescales the values into a range of [0,1]. This might be useful in some cases where all parameters need to have the same positive scale. You have to do this a lot in machine learning for eg you are working with 2 cols, one is total runs scored by a batsman(in the scale of 1000s), and the second is number of matches played by him(in the scale of 10s). The formula for normalization is given below\n",
        "\n",
        " Xchanged=(X−Xmin)/(Xmax−Xmin)"
      ]
    },
    {
      "cell_type": "code",
      "metadata": {
        "id": "TI_idHqkUz48",
        "colab_type": "code",
        "colab": {}
      },
      "source": [
        "# Q3. Write a code to normalize arr2."
      ],
      "execution_count": 0,
      "outputs": []
    },
    {
      "cell_type": "code",
      "metadata": {
        "id": "GXcTZro_VXd_",
        "colab_type": "code",
        "outputId": "00bac519-7a12-48a9-b072-1b38d4789372",
        "colab": {
          "base_uri": "https://localhost:8080/",
          "height": 34
        }
      },
      "source": [
        "np.percentile(arr1,25)"
      ],
      "execution_count": 0,
      "outputs": [
        {
          "output_type": "execute_result",
          "data": {
            "text/plain": [
              "9.75"
            ]
          },
          "metadata": {
            "tags": []
          },
          "execution_count": 6
        }
      ]
    },
    {
      "cell_type": "code",
      "metadata": {
        "id": "jzgUb2rxWTJ1",
        "colab_type": "code",
        "outputId": "e3dd2363-5d9e-47f2-b9b0-f30cd663dfa9",
        "colab": {
          "base_uri": "https://localhost:8080/",
          "height": 51
        }
      },
      "source": [
        "arr2=np.random.randint(low=1, high=10000, size=10).reshape(2,5)\n",
        "arr2"
      ],
      "execution_count": 0,
      "outputs": [
        {
          "output_type": "execute_result",
          "data": {
            "text/plain": [
              "array([[2741, 9444, 1910, 3745, 6040],\n",
              "       [5678, 2392, 3639, 5304, 5380]])"
            ]
          },
          "metadata": {
            "tags": []
          },
          "execution_count": 3
        }
      ]
    },
    {
      "cell_type": "code",
      "metadata": {
        "id": "_ki94e8tD5Vz",
        "colab_type": "code",
        "colab": {}
      },
      "source": [
        "def normalize(x):\n",
        " norm=(x-x.min())/(x.max()-x.min())\n",
        " return norm\n",
        "normalize(arr2)\n"
      ],
      "execution_count": 0,
      "outputs": []
    },
    {
      "cell_type": "code",
      "metadata": {
        "id": "eVE7GtnLCY2I",
        "colab_type": "code",
        "colab": {}
      },
      "source": [
        "def normalize(x):\n",
        " norm=(x-x.min())/(x.max()-x.min())\n",
        " return norm\n",
        " normalize(arr2)"
      ],
      "execution_count": 0,
      "outputs": []
    },
    {
      "cell_type": "markdown",
      "metadata": {
        "id": "cAKDoNdmW473",
        "colab_type": "text"
      },
      "source": [
        "Missing values are a pain in the a**(sorry for language). But yes trust me."
      ]
    },
    {
      "cell_type": "code",
      "metadata": {
        "id": "SV9DLiXaWz9b",
        "colab_type": "code",
        "outputId": "c55137d0-2f82-40c2-b41f-733a0b1188f2",
        "colab": {
          "base_uri": "https://localhost:8080/",
          "height": 50
        }
      },
      "source": [
        "# Q4. How would you check if your numpy array has some missing values?\n",
        "\n",
        "# Hint: Thoda research karo numpy me existing functions hai\n",
        "arr2\n",
        "np.isnan(arr2)"
      ],
      "execution_count": 0,
      "outputs": [
        {
          "output_type": "execute_result",
          "data": {
            "text/plain": [
              "array([[False, False, False, False, False],\n",
              "       [False, False, False, False, False]])"
            ]
          },
          "metadata": {
            "tags": []
          },
          "execution_count": 16
        }
      ]
    },
    {
      "cell_type": "code",
      "metadata": {
        "id": "WWo9EXndXLrP",
        "colab_type": "code",
        "colab": {}
      },
      "source": [
        "# Q5. Write a function which will accept 2 arguments.\n",
        "# First: A 1D numpy array arr\n",
        "# Second: An integer n {Please make sure n<=len(arr)}\n",
        "\n",
        "# Output: The output should be the nth largest item out of the array\n",
        "\n",
        "# Example1 : arr=(12,34,40,7,1,0) and n=3, the output should be 12\n",
        "# Example2 : arr=(12,34,40,7,1,0) and n=1, the output should be 40"
      ],
      "execution_count": 0,
      "outputs": []
    },
    {
      "cell_type": "code",
      "metadata": {
        "id": "aOeEUd1LYRIF",
        "colab_type": "code",
        "outputId": "29b24979-e8dd-4f2e-f392-fffe58768a7e",
        "colab": {
          "base_uri": "https://localhost:8080/",
          "height": 34
        }
      },
      "source": [
        "arr=[12,34,40,7,1,0]\n",
        "def klargest(arr,n):\n",
        " arr.sort(reverse=True)\n",
        " print(arr[n-1])\n",
        "klargest(arr,3)"
      ],
      "execution_count": 0,
      "outputs": [
        {
          "output_type": "stream",
          "text": [
            "12\n"
          ],
          "name": "stdout"
        }
      ]
    }
  ]
}