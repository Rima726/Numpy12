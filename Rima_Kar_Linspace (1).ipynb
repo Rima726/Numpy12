{
  "nbformat": 4,
  "nbformat_minor": 0,
  "metadata": {
    "colab": {
      "name": "Rima Kar - Linspace.ipynb",
      "provenance": [],
      "collapsed_sections": []
    },
    "kernelspec": {
      "name": "python3",
      "display_name": "Python 3"
    }
  },
  "cells": [
    {
      "cell_type": "code",
      "metadata": {
        "id": "I2suK6IQfz4-",
        "colab_type": "code",
        "colab": {}
      },
      "source": [
        "def mine():\n",
        "  l=float(input(\"Enter the lower bound:\"))\n",
        "  h=float(input(\"Enter the upper bound:\"))\n",
        "  s= float(input(\"Enter scale:\"))\n",
        "  x=h-l\n",
        "  d=s-1\n",
        "  y=x/d\n",
        "  i=0\n",
        "  array=[]\n",
        "  while(1):\n",
        "    if(l<=h):\n",
        "      i=i+1\n",
        "      array.insert(i,l)\n",
        "    else:\n",
        "      break  \n",
        "    val=l+y\n",
        "    l=val\n",
        "  print(array)   "
      ],
      "execution_count": 0,
      "outputs": []
    },
    {
      "cell_type": "code",
      "metadata": {
        "id": "PWF-ra8T_U__",
        "colab_type": "code",
        "outputId": "18638a70-6d8f-44a8-ce5d-c4197abfc028",
        "colab": {
          "base_uri": "https://localhost:8080/",
          "height": 104
        }
      },
      "source": [
        "mine()"
      ],
      "execution_count": 0,
      "outputs": [
        {
          "output_type": "stream",
          "text": [
            "Enter the lower bound:50\n",
            "Enter the upper bound:100\n",
            "Enter scale:50\n",
            "[50.0, 51.02040816326531, 52.04081632653062, 53.061224489795926, 54.081632653061234, 55.10204081632654, 56.12244897959185, 57.14285714285716, 58.16326530612247, 59.18367346938778, 60.204081632653086, 61.224489795918394, 62.2448979591837, 63.26530612244901, 64.28571428571432, 65.30612244897962, 66.32653061224492, 67.34693877551022, 68.36734693877553, 69.38775510204083, 70.40816326530613, 71.42857142857143, 72.44897959183673, 73.46938775510203, 74.48979591836734, 75.51020408163264, 76.53061224489794, 77.55102040816324, 78.57142857142854, 79.59183673469384, 80.61224489795914, 81.63265306122445, 82.65306122448975, 83.67346938775505, 84.69387755102035, 85.71428571428565, 86.73469387755095, 87.75510204081625, 88.77551020408156, 89.79591836734686, 90.81632653061216, 91.83673469387746, 92.85714285714276, 93.87755102040806, 94.89795918367336, 95.91836734693867, 96.93877551020397, 97.95918367346927, 98.97959183673457, 99.99999999999987]\n"
          ],
          "name": "stdout"
        }
      ]
    },
    {
      "cell_type": "code",
      "metadata": {
        "id": "Tuddnhsr_WX5",
        "colab_type": "code",
        "colab": {}
      },
      "source": [
        ""
      ],
      "execution_count": 0,
      "outputs": []
    }
  ]
}